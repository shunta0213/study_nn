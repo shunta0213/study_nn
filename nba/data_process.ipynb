{
 "cells": [
  {
   "cell_type": "code",
   "execution_count": 2,
   "metadata": {},
   "outputs": [],
   "source": [
    "import pandas as pd"
   ]
  },
  {
   "cell_type": "code",
   "execution_count": null,
   "metadata": {},
   "outputs": [],
   "source": [
    "team_data = pd.read_csv(\"teams.csv\")\n",
    "\n",
    "abrv_data = []\n",
    "abrv_data.append(pd.read_csv(\"abrev.csv\"))\n",
    "abrv_data.append(pd.read_csv(\"abrev-manu.csv\"))\n",
    "team_abrv_data = pd.concat(abrv_data, sort=True)\n",
    "team_abrv_data.drop(\n",
    "    team_abrv_data.columns[team_abrv_data.columns.str.contains(\"unnamed\", case=False)],\n",
    "    axis=1,\n",
    "    inplace=True,\n",
    ")\n",
    "team_abrv_data.to_csv(\"f_abrev.csv\")\n",
    "\n",
    "\n",
    "joined_team_data = pd.merge(\n",
    "    left=team_data,\n",
    "    right=team_abrv_data,\n",
    "    how=\"left\",\n",
    "    left_on=[\"Team\"],\n",
    "    right_on=[\"Franchise\"],\n",
    ")\n",
    "# drop unnecessary columns\n",
    "joined_team_data.drop(\n",
    "    joined_team_data.columns[\n",
    "        joined_team_data.columns.str.contains(\"unnamed\", case=False)\n",
    "    ],\n",
    "    axis=1,\n",
    "    inplace=True,\n",
    ")\n",
    "joined_team_data.drop(columns=[\"Team\", \"Franchise\"], inplace=True)\n",
    "# rename team\n",
    "joined_team_data.rename(columns={\"Abbreviation/ Acronym\": \"Team\"}, inplace=True)\n",
    "\n",
    "joined_team_data.to_csv(\"f_team.csv\")"
   ]
  },
  {
   "cell_type": "code",
   "execution_count": null,
   "metadata": {},
   "outputs": [],
   "source": [
    "team_data = pd.read_csv(\"f_team.csv\")\n",
    "player_data = pd.read_csv(\"players.csv\")\n",
    "\n",
    "joined_data = pd.merge(\n",
    "    left=player_data,\n",
    "    right=team_data,\n",
    "    how=\"left\",\n",
    "    left_on=[\"Tm\", \"Year\"],\n",
    "    right_on=[\"Team\", \"Year\"],\n",
    ")\n",
    "joined_data.drop(\n",
    "    joined_data.columns[joined_data.columns.str.contains(\"unnamed\", case=False)],\n",
    "    axis=1,\n",
    "    inplace=True,\n",
    ")\n",
    "joined_data.drop(columns=[\"Team\"], inplace=True)\n",
    "joined_data.rename(columns={\"Tm\": \"Team\"}, inplace=True)\n",
    "for i in range(len(joined_data[\"Player\"])):\n",
    "    joined_data[\"Player\"][i] = joined_data[\"Player\"][i].split(\"*\")[0]\n",
    "\n",
    "joined_data\n",
    "joined_data.to_csv(\"f_player.csv\")"
   ]
  },
  {
   "cell_type": "code",
   "execution_count": 5,
   "metadata": {},
   "outputs": [],
   "source": [
    "player_data = pd.read_csv(\"f_player.csv\")\n",
    "mvp_data = pd.read_csv(\"mvps.csv\")\n",
    "\n",
    "joined_data = pd.merge(\n",
    "    left=player_data,\n",
    "    right=mvp_data[[\"Rank\", \"Player\", \"Year\", \"Tm\"]],\n",
    "    how=\"left\",\n",
    "    left_on=[\"Player\", \"Year\", \"Team\"],\n",
    "    right_on=[\"Player\", \"Year\", \"Tm\"],\n",
    ")\n",
    "joined_data.drop(\n",
    "    joined_data.columns[joined_data.columns.str.contains(\"unnamed\", case=False)],\n",
    "    axis=1,\n",
    "    inplace=True,\n",
    ")\n",
    "joined_data.drop(columns=[\"Tm\"], inplace=True)\n",
    "joined_data[\"Rank\"] = joined_data[\"Rank\"].str.replace(\"T\", \"\")\n",
    "\n",
    "# joined_data.head(660)\n",
    "joined_data.to_csv(\"ff_player.csv\")"
   ]
  },
  {
   "cell_type": "code",
   "execution_count": null,
   "metadata": {},
   "outputs": [],
   "source": []
  }
 ],
 "metadata": {
  "kernelspec": {
   "display_name": "base",
   "language": "python",
   "name": "python3"
  },
  "language_info": {
   "codemirror_mode": {
    "name": "ipython",
    "version": 3
   },
   "file_extension": ".py",
   "mimetype": "text/x-python",
   "name": "python",
   "nbconvert_exporter": "python",
   "pygments_lexer": "ipython3",
   "version": "3.10.13"
  }
 },
 "nbformat": 4,
 "nbformat_minor": 2
}
