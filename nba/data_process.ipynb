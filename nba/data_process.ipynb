{
 "cells": [
  {
   "cell_type": "code",
   "execution_count": 13,
   "metadata": {},
   "outputs": [],
   "source": [
    "import pandas as pd"
   ]
  },
  {
   "cell_type": "code",
   "execution_count": 23,
   "metadata": {},
   "outputs": [],
   "source": [
    "team_data = pd.read_csv(\"teams.csv\")\n",
    "\n",
    "abrv_data = []\n",
    "abrv_data.append(pd.read_csv(\"abrev.csv\"))\n",
    "abrv_data.append(pd.read_csv(\"abrev-manu.csv\"))\n",
    "team_abrv_data = pd.concat(abrv_data, sort=True)\n",
    "team_abrv_data.drop(team_abrv_data.columns[team_abrv_data.columns.str.contains('unnamed',case = False)],axis = 1, inplace = True)\n",
    "team_abrv_data.to_csv(\"f_abrev.csv\")\n",
    "\n",
    "\n",
    "joined_team_data = pd.merge(left=team_data, right=team_abrv_data, how=\"left\", left_on=[\"Team\"], right_on=[\"Franchise\"])\n",
    "# drop unnecessary columns\n",
    "joined_team_data.drop(joined_team_data.columns[joined_team_data.columns.str.contains('unnamed',case = False)],axis = 1, inplace = True)\n",
    "joined_team_data.drop(columns=[\"Team\", \"Franchise\"], inplace=True)\n",
    "# rename team\n",
    "joined_team_data.rename(columns={\"Abbreviation/ Acronym\": \"Team\"}, inplace=True)\n",
    "\n",
    "joined_team_data.to_csv(\"f_team.csv\")"
   ]
  },
  {
   "cell_type": "code",
   "execution_count": 21,
   "metadata": {},
   "outputs": [],
   "source": [
    "team_data = pd.read_csv(\"f_team.csv\")\n",
    "player_data = pd.read_csv(\"players.csv\")\n",
    "\n",
    "joined_data = pd.merge(left=player_data, right=team_data, how=\"left\", left_on=[\"Tm\", \"Year\"], right_on=[\"Team\", \"Year\"])\n",
    "joined_data.drop(joined_data.columns[joined_data.columns.str.contains('unnamed',case = False)],axis = 1, inplace = True)\n",
    "joined_data.drop(columns=[\"Tm\"])\n",
    "\n",
    "joined_data\n",
    "joined_data.to_csv(\"f_player.csv\")"
   ]
  },
  {
   "cell_type": "code",
   "execution_count": null,
   "metadata": {},
   "outputs": [],
   "source": []
  }
 ],
 "metadata": {
  "kernelspec": {
   "display_name": "base",
   "language": "python",
   "name": "python3"
  },
  "language_info": {
   "codemirror_mode": {
    "name": "ipython",
    "version": 3
   },
   "file_extension": ".py",
   "mimetype": "text/x-python",
   "name": "python",
   "nbconvert_exporter": "python",
   "pygments_lexer": "ipython3",
   "version": "3.10.13"
  }
 },
 "nbformat": 4,
 "nbformat_minor": 2
}
