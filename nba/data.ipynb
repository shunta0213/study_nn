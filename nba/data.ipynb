{
 "cells": [
  {
   "cell_type": "code",
   "execution_count": 1,
   "metadata": {},
   "outputs": [],
   "source": [
    "import requests\n",
    "from bs4 import BeautifulSoup as bs\n",
    "import pandas as pd\n",
    "import os\n",
    "import time\n",
    "\n",
    "from selenium import webdriver"
   ]
  },
  {
   "cell_type": "code",
   "execution_count": 2,
   "metadata": {},
   "outputs": [],
   "source": [
    "years = list(range(1991, 2023))\n",
    "url_start = \"https://www.basketball-reference.com/awards/awards_{}.html\""
   ]
  },
  {
   "cell_type": "markdown",
   "metadata": {},
   "source": [
    "# Scrape MVPs\n"
   ]
  },
  {
   "cell_type": "code",
   "execution_count": 3,
   "metadata": {},
   "outputs": [],
   "source": [
    "dfs = []\n",
    "\n",
    "# Already fetched\n",
    "# for year in years:\n",
    "#   url = url_start.format(year)\n",
    "#   data = requests.get(url)\n",
    "#   file_name = \"./mvps/{}.html\".format(year)\n",
    "\n",
    "\n",
    "#   if os.path.exists(file_name):\n",
    "#     os.remove(file_name)\n",
    "#   with open(file_name, \"w+\") as f:\n",
    "#     f.write(data.text)"
   ]
  },
  {
   "cell_type": "code",
   "execution_count": 4,
   "metadata": {},
   "outputs": [
    {
     "name": "stderr",
     "output_type": "stream",
     "text": [
      "/tmp/ipykernel_563/2332508481.py:8: FutureWarning: Passing literal html to 'read_html' is deprecated and will be removed in a future version. To read from a literal string, wrap it in a 'StringIO' object.\n",
      "  mvp = pd.read_html(str(mvp_table))[0]\n"
     ]
    },
    {
     "name": "stdout",
     "output_type": "stream",
     "text": [
      "1991\n"
     ]
    },
    {
     "name": "stderr",
     "output_type": "stream",
     "text": [
      "/tmp/ipykernel_563/2332508481.py:8: FutureWarning: Passing literal html to 'read_html' is deprecated and will be removed in a future version. To read from a literal string, wrap it in a 'StringIO' object.\n",
      "  mvp = pd.read_html(str(mvp_table))[0]\n",
      "/tmp/ipykernel_563/2332508481.py:8: FutureWarning: Passing literal html to 'read_html' is deprecated and will be removed in a future version. To read from a literal string, wrap it in a 'StringIO' object.\n",
      "  mvp = pd.read_html(str(mvp_table))[0]\n"
     ]
    },
    {
     "name": "stdout",
     "output_type": "stream",
     "text": [
      "1992\n",
      "1993\n"
     ]
    },
    {
     "name": "stderr",
     "output_type": "stream",
     "text": [
      "/tmp/ipykernel_563/2332508481.py:8: FutureWarning: Passing literal html to 'read_html' is deprecated and will be removed in a future version. To read from a literal string, wrap it in a 'StringIO' object.\n",
      "  mvp = pd.read_html(str(mvp_table))[0]\n"
     ]
    },
    {
     "name": "stdout",
     "output_type": "stream",
     "text": [
      "1994\n"
     ]
    },
    {
     "name": "stderr",
     "output_type": "stream",
     "text": [
      "/tmp/ipykernel_563/2332508481.py:8: FutureWarning: Passing literal html to 'read_html' is deprecated and will be removed in a future version. To read from a literal string, wrap it in a 'StringIO' object.\n",
      "  mvp = pd.read_html(str(mvp_table))[0]\n",
      "/tmp/ipykernel_563/2332508481.py:8: FutureWarning: Passing literal html to 'read_html' is deprecated and will be removed in a future version. To read from a literal string, wrap it in a 'StringIO' object.\n",
      "  mvp = pd.read_html(str(mvp_table))[0]\n"
     ]
    },
    {
     "name": "stdout",
     "output_type": "stream",
     "text": [
      "1995\n",
      "1996\n"
     ]
    },
    {
     "name": "stderr",
     "output_type": "stream",
     "text": [
      "/tmp/ipykernel_563/2332508481.py:8: FutureWarning: Passing literal html to 'read_html' is deprecated and will be removed in a future version. To read from a literal string, wrap it in a 'StringIO' object.\n",
      "  mvp = pd.read_html(str(mvp_table))[0]\n",
      "/tmp/ipykernel_563/2332508481.py:8: FutureWarning: Passing literal html to 'read_html' is deprecated and will be removed in a future version. To read from a literal string, wrap it in a 'StringIO' object.\n",
      "  mvp = pd.read_html(str(mvp_table))[0]\n"
     ]
    },
    {
     "name": "stdout",
     "output_type": "stream",
     "text": [
      "1997\n",
      "1998\n"
     ]
    },
    {
     "name": "stderr",
     "output_type": "stream",
     "text": [
      "/tmp/ipykernel_563/2332508481.py:8: FutureWarning: Passing literal html to 'read_html' is deprecated and will be removed in a future version. To read from a literal string, wrap it in a 'StringIO' object.\n",
      "  mvp = pd.read_html(str(mvp_table))[0]\n",
      "/tmp/ipykernel_563/2332508481.py:8: FutureWarning: Passing literal html to 'read_html' is deprecated and will be removed in a future version. To read from a literal string, wrap it in a 'StringIO' object.\n",
      "  mvp = pd.read_html(str(mvp_table))[0]\n"
     ]
    },
    {
     "name": "stdout",
     "output_type": "stream",
     "text": [
      "1999\n",
      "2000\n"
     ]
    },
    {
     "name": "stderr",
     "output_type": "stream",
     "text": [
      "/tmp/ipykernel_563/2332508481.py:8: FutureWarning: Passing literal html to 'read_html' is deprecated and will be removed in a future version. To read from a literal string, wrap it in a 'StringIO' object.\n",
      "  mvp = pd.read_html(str(mvp_table))[0]\n"
     ]
    },
    {
     "name": "stdout",
     "output_type": "stream",
     "text": [
      "2001\n"
     ]
    },
    {
     "name": "stderr",
     "output_type": "stream",
     "text": [
      "/tmp/ipykernel_563/2332508481.py:8: FutureWarning: Passing literal html to 'read_html' is deprecated and will be removed in a future version. To read from a literal string, wrap it in a 'StringIO' object.\n",
      "  mvp = pd.read_html(str(mvp_table))[0]\n",
      "/tmp/ipykernel_563/2332508481.py:8: FutureWarning: Passing literal html to 'read_html' is deprecated and will be removed in a future version. To read from a literal string, wrap it in a 'StringIO' object.\n",
      "  mvp = pd.read_html(str(mvp_table))[0]\n"
     ]
    },
    {
     "name": "stdout",
     "output_type": "stream",
     "text": [
      "2002\n",
      "2003\n"
     ]
    },
    {
     "name": "stderr",
     "output_type": "stream",
     "text": [
      "/tmp/ipykernel_563/2332508481.py:8: FutureWarning: Passing literal html to 'read_html' is deprecated and will be removed in a future version. To read from a literal string, wrap it in a 'StringIO' object.\n",
      "  mvp = pd.read_html(str(mvp_table))[0]\n",
      "/tmp/ipykernel_563/2332508481.py:8: FutureWarning: Passing literal html to 'read_html' is deprecated and will be removed in a future version. To read from a literal string, wrap it in a 'StringIO' object.\n",
      "  mvp = pd.read_html(str(mvp_table))[0]\n"
     ]
    },
    {
     "name": "stdout",
     "output_type": "stream",
     "text": [
      "2004\n",
      "2005\n",
      "2006\n"
     ]
    },
    {
     "name": "stderr",
     "output_type": "stream",
     "text": [
      "/tmp/ipykernel_563/2332508481.py:8: FutureWarning: Passing literal html to 'read_html' is deprecated and will be removed in a future version. To read from a literal string, wrap it in a 'StringIO' object.\n",
      "  mvp = pd.read_html(str(mvp_table))[0]\n",
      "/tmp/ipykernel_563/2332508481.py:8: FutureWarning: Passing literal html to 'read_html' is deprecated and will be removed in a future version. To read from a literal string, wrap it in a 'StringIO' object.\n",
      "  mvp = pd.read_html(str(mvp_table))[0]\n",
      "/tmp/ipykernel_563/2332508481.py:8: FutureWarning: Passing literal html to 'read_html' is deprecated and will be removed in a future version. To read from a literal string, wrap it in a 'StringIO' object.\n",
      "  mvp = pd.read_html(str(mvp_table))[0]\n"
     ]
    },
    {
     "name": "stdout",
     "output_type": "stream",
     "text": [
      "2007\n",
      "2008\n"
     ]
    },
    {
     "name": "stderr",
     "output_type": "stream",
     "text": [
      "/tmp/ipykernel_563/2332508481.py:8: FutureWarning: Passing literal html to 'read_html' is deprecated and will be removed in a future version. To read from a literal string, wrap it in a 'StringIO' object.\n",
      "  mvp = pd.read_html(str(mvp_table))[0]\n",
      "/tmp/ipykernel_563/2332508481.py:8: FutureWarning: Passing literal html to 'read_html' is deprecated and will be removed in a future version. To read from a literal string, wrap it in a 'StringIO' object.\n",
      "  mvp = pd.read_html(str(mvp_table))[0]\n"
     ]
    },
    {
     "name": "stdout",
     "output_type": "stream",
     "text": [
      "2009\n",
      "2010\n",
      "2011\n"
     ]
    },
    {
     "name": "stderr",
     "output_type": "stream",
     "text": [
      "/tmp/ipykernel_563/2332508481.py:8: FutureWarning: Passing literal html to 'read_html' is deprecated and will be removed in a future version. To read from a literal string, wrap it in a 'StringIO' object.\n",
      "  mvp = pd.read_html(str(mvp_table))[0]\n",
      "/tmp/ipykernel_563/2332508481.py:8: FutureWarning: Passing literal html to 'read_html' is deprecated and will be removed in a future version. To read from a literal string, wrap it in a 'StringIO' object.\n",
      "  mvp = pd.read_html(str(mvp_table))[0]\n"
     ]
    },
    {
     "name": "stdout",
     "output_type": "stream",
     "text": [
      "2012\n"
     ]
    },
    {
     "name": "stderr",
     "output_type": "stream",
     "text": [
      "/tmp/ipykernel_563/2332508481.py:8: FutureWarning: Passing literal html to 'read_html' is deprecated and will be removed in a future version. To read from a literal string, wrap it in a 'StringIO' object.\n",
      "  mvp = pd.read_html(str(mvp_table))[0]\n"
     ]
    },
    {
     "name": "stdout",
     "output_type": "stream",
     "text": [
      "2013\n"
     ]
    },
    {
     "name": "stderr",
     "output_type": "stream",
     "text": [
      "/tmp/ipykernel_563/2332508481.py:8: FutureWarning: Passing literal html to 'read_html' is deprecated and will be removed in a future version. To read from a literal string, wrap it in a 'StringIO' object.\n",
      "  mvp = pd.read_html(str(mvp_table))[0]\n"
     ]
    },
    {
     "name": "stdout",
     "output_type": "stream",
     "text": [
      "2014\n"
     ]
    },
    {
     "name": "stderr",
     "output_type": "stream",
     "text": [
      "/tmp/ipykernel_563/2332508481.py:8: FutureWarning: Passing literal html to 'read_html' is deprecated and will be removed in a future version. To read from a literal string, wrap it in a 'StringIO' object.\n",
      "  mvp = pd.read_html(str(mvp_table))[0]\n"
     ]
    },
    {
     "name": "stdout",
     "output_type": "stream",
     "text": [
      "2015\n"
     ]
    },
    {
     "name": "stderr",
     "output_type": "stream",
     "text": [
      "/tmp/ipykernel_563/2332508481.py:8: FutureWarning: Passing literal html to 'read_html' is deprecated and will be removed in a future version. To read from a literal string, wrap it in a 'StringIO' object.\n",
      "  mvp = pd.read_html(str(mvp_table))[0]\n",
      "/tmp/ipykernel_563/2332508481.py:8: FutureWarning: Passing literal html to 'read_html' is deprecated and will be removed in a future version. To read from a literal string, wrap it in a 'StringIO' object.\n",
      "  mvp = pd.read_html(str(mvp_table))[0]\n"
     ]
    },
    {
     "name": "stdout",
     "output_type": "stream",
     "text": [
      "2016\n",
      "2017\n"
     ]
    },
    {
     "name": "stderr",
     "output_type": "stream",
     "text": [
      "/tmp/ipykernel_563/2332508481.py:8: FutureWarning: Passing literal html to 'read_html' is deprecated and will be removed in a future version. To read from a literal string, wrap it in a 'StringIO' object.\n",
      "  mvp = pd.read_html(str(mvp_table))[0]\n",
      "/tmp/ipykernel_563/2332508481.py:8: FutureWarning: Passing literal html to 'read_html' is deprecated and will be removed in a future version. To read from a literal string, wrap it in a 'StringIO' object.\n",
      "  mvp = pd.read_html(str(mvp_table))[0]\n"
     ]
    },
    {
     "name": "stdout",
     "output_type": "stream",
     "text": [
      "2018\n",
      "2019\n"
     ]
    },
    {
     "name": "stderr",
     "output_type": "stream",
     "text": [
      "/tmp/ipykernel_563/2332508481.py:8: FutureWarning: Passing literal html to 'read_html' is deprecated and will be removed in a future version. To read from a literal string, wrap it in a 'StringIO' object.\n",
      "  mvp = pd.read_html(str(mvp_table))[0]\n",
      "/tmp/ipykernel_563/2332508481.py:8: FutureWarning: Passing literal html to 'read_html' is deprecated and will be removed in a future version. To read from a literal string, wrap it in a 'StringIO' object.\n",
      "  mvp = pd.read_html(str(mvp_table))[0]\n"
     ]
    },
    {
     "name": "stdout",
     "output_type": "stream",
     "text": [
      "2020\n",
      "2021\n",
      "2022\n"
     ]
    },
    {
     "name": "stderr",
     "output_type": "stream",
     "text": [
      "/tmp/ipykernel_563/2332508481.py:8: FutureWarning: Passing literal html to 'read_html' is deprecated and will be removed in a future version. To read from a literal string, wrap it in a 'StringIO' object.\n",
      "  mvp = pd.read_html(str(mvp_table))[0]\n"
     ]
    }
   ],
   "source": [
    "for year in years:\n",
    "    with open(\"./mvps/{}.html\".format(year)) as f:\n",
    "        page = f.read()\n",
    "\n",
    "    soup = bs(page, \"html.parser\")\n",
    "    soup.find(\"tr\", class_=\"over_header\").decompose()\n",
    "    mvp_table = soup.find_all(id=\"mvp\")\n",
    "    mvp = pd.read_html(str(mvp_table))[0]\n",
    "    mvp[\"Year\"] = year\n",
    "\n",
    "    print(year)\n",
    "\n",
    "    dfs.append(mvp)\n",
    "    mvps = pd.concat(dfs)"
   ]
  },
  {
   "cell_type": "code",
   "execution_count": 5,
   "metadata": {},
   "outputs": [],
   "source": [
    "if os.path.exists(\"mvps.csv\"):\n",
    "    os.remove(\"mvps.csv\")\n",
    "mvps.to_csv(\"mvps.csv\")"
   ]
  },
  {
   "cell_type": "markdown",
   "metadata": {},
   "source": [
    "# Scrape player stats\n"
   ]
  },
  {
   "cell_type": "code",
   "execution_count": 6,
   "metadata": {},
   "outputs": [],
   "source": [
    "player_stats_url = \"https://www.basketball-reference.com/leagues/NBA_{}_per_game.html\""
   ]
  },
  {
   "cell_type": "code",
   "execution_count": 7,
   "metadata": {},
   "outputs": [
    {
     "name": "stdout",
     "output_type": "stream",
     "text": [
      "scraping 1991 data\n",
      "scraping 1992 data\n",
      "scraping 1993 data\n",
      "scraping 1994 data\n",
      "scraping 1995 data\n",
      "scraping 1996 data\n",
      "scraping 1997 data\n",
      "scraping 1998 data\n",
      "scraping 1999 data\n",
      "scraping 2000 data\n",
      "scraping 2001 data\n",
      "scraping 2002 data\n",
      "scraping 2003 data\n",
      "scraping 2004 data\n",
      "scraping 2005 data\n",
      "scraping 2006 data\n",
      "scraping 2007 data\n",
      "scraping 2008 data\n",
      "scraping 2009 data\n",
      "scraping 2010 data\n",
      "scraping 2011 data\n",
      "scraping 2012 data\n",
      "scraping 2013 data\n",
      "scraping 2014 data\n",
      "scraping 2015 data\n",
      "scraping 2016 data\n",
      "scraping 2017 data\n",
      "scraping 2018 data\n",
      "scraping 2019 data\n",
      "scraping 2020 data\n",
      "scraping 2021 data\n",
      "scraping 2022 data\n"
     ]
    }
   ],
   "source": [
    "# options = webdriver.FirefoxOptions()\n",
    "# driver = webdriver.Remote(command_executor=os.environ[\"SELENIUM_URL\"], options=options)\n",
    "\n",
    "# for year in years:\n",
    "#     url = player_stats_url.format(year)\n",
    "#     print(f\"scraping {year} data\")\n",
    "\n",
    "#     driver.get(url)\n",
    "#     driver.execute_script(\"window.scrollTo(1,10000)\")\n",
    "#     time.sleep(2)\n",
    "\n",
    "#     with open(\"player/{}.html\".format(year), \"w+\") as f:\n",
    "#         f.write(driver.page_source)\n",
    "\n",
    "# driver.close()"
   ]
  },
  {
   "cell_type": "code",
   "execution_count": 8,
   "metadata": {},
   "outputs": [
    {
     "name": "stderr",
     "output_type": "stream",
     "text": [
      "/tmp/ipykernel_563/1847893316.py:10: FutureWarning: Passing literal html to 'read_html' is deprecated and will be removed in a future version. To read from a literal string, wrap it in a 'StringIO' object.\n",
      "  player_df = pd.read_html(str(player_table))[0]\n",
      "/tmp/ipykernel_563/1847893316.py:10: FutureWarning: Passing literal html to 'read_html' is deprecated and will be removed in a future version. To read from a literal string, wrap it in a 'StringIO' object.\n",
      "  player_df = pd.read_html(str(player_table))[0]\n",
      "/tmp/ipykernel_563/1847893316.py:10: FutureWarning: Passing literal html to 'read_html' is deprecated and will be removed in a future version. To read from a literal string, wrap it in a 'StringIO' object.\n",
      "  player_df = pd.read_html(str(player_table))[0]\n",
      "/tmp/ipykernel_563/1847893316.py:10: FutureWarning: Passing literal html to 'read_html' is deprecated and will be removed in a future version. To read from a literal string, wrap it in a 'StringIO' object.\n",
      "  player_df = pd.read_html(str(player_table))[0]\n",
      "/tmp/ipykernel_563/1847893316.py:10: FutureWarning: Passing literal html to 'read_html' is deprecated and will be removed in a future version. To read from a literal string, wrap it in a 'StringIO' object.\n",
      "  player_df = pd.read_html(str(player_table))[0]\n",
      "/tmp/ipykernel_563/1847893316.py:10: FutureWarning: Passing literal html to 'read_html' is deprecated and will be removed in a future version. To read from a literal string, wrap it in a 'StringIO' object.\n",
      "  player_df = pd.read_html(str(player_table))[0]\n",
      "/tmp/ipykernel_563/1847893316.py:10: FutureWarning: Passing literal html to 'read_html' is deprecated and will be removed in a future version. To read from a literal string, wrap it in a 'StringIO' object.\n",
      "  player_df = pd.read_html(str(player_table))[0]\n",
      "/tmp/ipykernel_563/1847893316.py:10: FutureWarning: Passing literal html to 'read_html' is deprecated and will be removed in a future version. To read from a literal string, wrap it in a 'StringIO' object.\n",
      "  player_df = pd.read_html(str(player_table))[0]\n",
      "/tmp/ipykernel_563/1847893316.py:10: FutureWarning: Passing literal html to 'read_html' is deprecated and will be removed in a future version. To read from a literal string, wrap it in a 'StringIO' object.\n",
      "  player_df = pd.read_html(str(player_table))[0]\n",
      "/tmp/ipykernel_563/1847893316.py:10: FutureWarning: Passing literal html to 'read_html' is deprecated and will be removed in a future version. To read from a literal string, wrap it in a 'StringIO' object.\n",
      "  player_df = pd.read_html(str(player_table))[0]\n",
      "/tmp/ipykernel_563/1847893316.py:10: FutureWarning: Passing literal html to 'read_html' is deprecated and will be removed in a future version. To read from a literal string, wrap it in a 'StringIO' object.\n",
      "  player_df = pd.read_html(str(player_table))[0]\n",
      "/tmp/ipykernel_563/1847893316.py:10: FutureWarning: Passing literal html to 'read_html' is deprecated and will be removed in a future version. To read from a literal string, wrap it in a 'StringIO' object.\n",
      "  player_df = pd.read_html(str(player_table))[0]\n",
      "/tmp/ipykernel_563/1847893316.py:10: FutureWarning: Passing literal html to 'read_html' is deprecated and will be removed in a future version. To read from a literal string, wrap it in a 'StringIO' object.\n",
      "  player_df = pd.read_html(str(player_table))[0]\n",
      "/tmp/ipykernel_563/1847893316.py:10: FutureWarning: Passing literal html to 'read_html' is deprecated and will be removed in a future version. To read from a literal string, wrap it in a 'StringIO' object.\n",
      "  player_df = pd.read_html(str(player_table))[0]\n",
      "/tmp/ipykernel_563/1847893316.py:10: FutureWarning: Passing literal html to 'read_html' is deprecated and will be removed in a future version. To read from a literal string, wrap it in a 'StringIO' object.\n",
      "  player_df = pd.read_html(str(player_table))[0]\n",
      "/tmp/ipykernel_563/1847893316.py:10: FutureWarning: Passing literal html to 'read_html' is deprecated and will be removed in a future version. To read from a literal string, wrap it in a 'StringIO' object.\n",
      "  player_df = pd.read_html(str(player_table))[0]\n",
      "/tmp/ipykernel_563/1847893316.py:10: FutureWarning: Passing literal html to 'read_html' is deprecated and will be removed in a future version. To read from a literal string, wrap it in a 'StringIO' object.\n",
      "  player_df = pd.read_html(str(player_table))[0]\n",
      "/tmp/ipykernel_563/1847893316.py:10: FutureWarning: Passing literal html to 'read_html' is deprecated and will be removed in a future version. To read from a literal string, wrap it in a 'StringIO' object.\n",
      "  player_df = pd.read_html(str(player_table))[0]\n",
      "/tmp/ipykernel_563/1847893316.py:10: FutureWarning: Passing literal html to 'read_html' is deprecated and will be removed in a future version. To read from a literal string, wrap it in a 'StringIO' object.\n",
      "  player_df = pd.read_html(str(player_table))[0]\n",
      "/tmp/ipykernel_563/1847893316.py:10: FutureWarning: Passing literal html to 'read_html' is deprecated and will be removed in a future version. To read from a literal string, wrap it in a 'StringIO' object.\n",
      "  player_df = pd.read_html(str(player_table))[0]\n",
      "/tmp/ipykernel_563/1847893316.py:10: FutureWarning: Passing literal html to 'read_html' is deprecated and will be removed in a future version. To read from a literal string, wrap it in a 'StringIO' object.\n",
      "  player_df = pd.read_html(str(player_table))[0]\n",
      "/tmp/ipykernel_563/1847893316.py:10: FutureWarning: Passing literal html to 'read_html' is deprecated and will be removed in a future version. To read from a literal string, wrap it in a 'StringIO' object.\n",
      "  player_df = pd.read_html(str(player_table))[0]\n",
      "/tmp/ipykernel_563/1847893316.py:10: FutureWarning: Passing literal html to 'read_html' is deprecated and will be removed in a future version. To read from a literal string, wrap it in a 'StringIO' object.\n",
      "  player_df = pd.read_html(str(player_table))[0]\n",
      "/tmp/ipykernel_563/1847893316.py:10: FutureWarning: Passing literal html to 'read_html' is deprecated and will be removed in a future version. To read from a literal string, wrap it in a 'StringIO' object.\n",
      "  player_df = pd.read_html(str(player_table))[0]\n",
      "/tmp/ipykernel_563/1847893316.py:10: FutureWarning: Passing literal html to 'read_html' is deprecated and will be removed in a future version. To read from a literal string, wrap it in a 'StringIO' object.\n",
      "  player_df = pd.read_html(str(player_table))[0]\n",
      "/tmp/ipykernel_563/1847893316.py:10: FutureWarning: Passing literal html to 'read_html' is deprecated and will be removed in a future version. To read from a literal string, wrap it in a 'StringIO' object.\n",
      "  player_df = pd.read_html(str(player_table))[0]\n",
      "/tmp/ipykernel_563/1847893316.py:10: FutureWarning: Passing literal html to 'read_html' is deprecated and will be removed in a future version. To read from a literal string, wrap it in a 'StringIO' object.\n",
      "  player_df = pd.read_html(str(player_table))[0]\n",
      "/tmp/ipykernel_563/1847893316.py:10: FutureWarning: Passing literal html to 'read_html' is deprecated and will be removed in a future version. To read from a literal string, wrap it in a 'StringIO' object.\n",
      "  player_df = pd.read_html(str(player_table))[0]\n",
      "/tmp/ipykernel_563/1847893316.py:10: FutureWarning: Passing literal html to 'read_html' is deprecated and will be removed in a future version. To read from a literal string, wrap it in a 'StringIO' object.\n",
      "  player_df = pd.read_html(str(player_table))[0]\n",
      "/tmp/ipykernel_563/1847893316.py:10: FutureWarning: Passing literal html to 'read_html' is deprecated and will be removed in a future version. To read from a literal string, wrap it in a 'StringIO' object.\n",
      "  player_df = pd.read_html(str(player_table))[0]\n",
      "/tmp/ipykernel_563/1847893316.py:10: FutureWarning: Passing literal html to 'read_html' is deprecated and will be removed in a future version. To read from a literal string, wrap it in a 'StringIO' object.\n",
      "  player_df = pd.read_html(str(player_table))[0]\n",
      "/tmp/ipykernel_563/1847893316.py:10: FutureWarning: Passing literal html to 'read_html' is deprecated and will be removed in a future version. To read from a literal string, wrap it in a 'StringIO' object.\n",
      "  player_df = pd.read_html(str(player_table))[0]\n"
     ]
    }
   ],
   "source": [
    "dfs = []\n",
    "\n",
    "for year in years:\n",
    "    with open(\"player/{}.html\".format(year)) as f:\n",
    "        page = f.read()\n",
    "\n",
    "    soup = bs(page, \"html.parser\")\n",
    "    soup.find(\"tr\", class_=\"thead\").decompose()\n",
    "    player_table = soup.find_all(id=\"per_game_stats\")[0]\n",
    "    player_df = pd.read_html(str(player_table))[0]\n",
    "    player_df[\"Year\"] = year\n",
    "    dfs.append(player_df)\n",
    "\n",
    "players = pd.concat(dfs)\n",
    "players.to_csv(\"players.csv\")"
   ]
  },
  {
   "cell_type": "markdown",
   "metadata": {},
   "source": [
    "\n",
    "# Team Stats"
   ]
  },
  {
   "cell_type": "code",
   "execution_count": 9,
   "metadata": {},
   "outputs": [],
   "source": [
    "team_stats_url = \"https://www.basketball-reference.com/leagues/NBA_{}_standings.html\""
   ]
  },
  {
   "cell_type": "code",
   "execution_count": 11,
   "metadata": {},
   "outputs": [],
   "source": [
    "for year in years:\n",
    "    url = team_stats_url.format(year)\n",
    "    \n",
    "    data = requests.get(url)\n",
    "    time.sleep(2)\n",
    "    \n",
    "    with open(\"team/{}.html\".format(year), \"w+\") as f:\n",
    "        f.write(data.text)"
   ]
  },
  {
   "cell_type": "code",
   "execution_count": 12,
   "metadata": {},
   "outputs": [
    {
     "name": "stderr",
     "output_type": "stream",
     "text": [
      "/tmp/ipykernel_563/1228026030.py:9: FutureWarning: Passing literal html to 'read_html' is deprecated and will be removed in a future version. To read from a literal string, wrap it in a 'StringIO' object.\n",
      "  e_df = pd.read_html(str(e_table))[0]\n",
      "/tmp/ipykernel_563/1228026030.py:16: FutureWarning: Passing literal html to 'read_html' is deprecated and will be removed in a future version. To read from a literal string, wrap it in a 'StringIO' object.\n",
      "  w_df = pd.read_html(str(w_table))[0]\n",
      "/tmp/ipykernel_563/1228026030.py:9: FutureWarning: Passing literal html to 'read_html' is deprecated and will be removed in a future version. To read from a literal string, wrap it in a 'StringIO' object.\n",
      "  e_df = pd.read_html(str(e_table))[0]\n",
      "/tmp/ipykernel_563/1228026030.py:16: FutureWarning: Passing literal html to 'read_html' is deprecated and will be removed in a future version. To read from a literal string, wrap it in a 'StringIO' object.\n",
      "  w_df = pd.read_html(str(w_table))[0]\n",
      "/tmp/ipykernel_563/1228026030.py:9: FutureWarning: Passing literal html to 'read_html' is deprecated and will be removed in a future version. To read from a literal string, wrap it in a 'StringIO' object.\n",
      "  e_df = pd.read_html(str(e_table))[0]\n",
      "/tmp/ipykernel_563/1228026030.py:16: FutureWarning: Passing literal html to 'read_html' is deprecated and will be removed in a future version. To read from a literal string, wrap it in a 'StringIO' object.\n",
      "  w_df = pd.read_html(str(w_table))[0]\n",
      "/tmp/ipykernel_563/1228026030.py:9: FutureWarning: Passing literal html to 'read_html' is deprecated and will be removed in a future version. To read from a literal string, wrap it in a 'StringIO' object.\n",
      "  e_df = pd.read_html(str(e_table))[0]\n",
      "/tmp/ipykernel_563/1228026030.py:16: FutureWarning: Passing literal html to 'read_html' is deprecated and will be removed in a future version. To read from a literal string, wrap it in a 'StringIO' object.\n",
      "  w_df = pd.read_html(str(w_table))[0]\n",
      "/tmp/ipykernel_563/1228026030.py:9: FutureWarning: Passing literal html to 'read_html' is deprecated and will be removed in a future version. To read from a literal string, wrap it in a 'StringIO' object.\n",
      "  e_df = pd.read_html(str(e_table))[0]\n",
      "/tmp/ipykernel_563/1228026030.py:16: FutureWarning: Passing literal html to 'read_html' is deprecated and will be removed in a future version. To read from a literal string, wrap it in a 'StringIO' object.\n",
      "  w_df = pd.read_html(str(w_table))[0]\n",
      "/tmp/ipykernel_563/1228026030.py:9: FutureWarning: Passing literal html to 'read_html' is deprecated and will be removed in a future version. To read from a literal string, wrap it in a 'StringIO' object.\n",
      "  e_df = pd.read_html(str(e_table))[0]\n",
      "/tmp/ipykernel_563/1228026030.py:16: FutureWarning: Passing literal html to 'read_html' is deprecated and will be removed in a future version. To read from a literal string, wrap it in a 'StringIO' object.\n",
      "  w_df = pd.read_html(str(w_table))[0]\n",
      "/tmp/ipykernel_563/1228026030.py:9: FutureWarning: Passing literal html to 'read_html' is deprecated and will be removed in a future version. To read from a literal string, wrap it in a 'StringIO' object.\n",
      "  e_df = pd.read_html(str(e_table))[0]\n",
      "/tmp/ipykernel_563/1228026030.py:16: FutureWarning: Passing literal html to 'read_html' is deprecated and will be removed in a future version. To read from a literal string, wrap it in a 'StringIO' object.\n",
      "  w_df = pd.read_html(str(w_table))[0]\n",
      "/tmp/ipykernel_563/1228026030.py:9: FutureWarning: Passing literal html to 'read_html' is deprecated and will be removed in a future version. To read from a literal string, wrap it in a 'StringIO' object.\n",
      "  e_df = pd.read_html(str(e_table))[0]\n",
      "/tmp/ipykernel_563/1228026030.py:16: FutureWarning: Passing literal html to 'read_html' is deprecated and will be removed in a future version. To read from a literal string, wrap it in a 'StringIO' object.\n",
      "  w_df = pd.read_html(str(w_table))[0]\n",
      "/tmp/ipykernel_563/1228026030.py:9: FutureWarning: Passing literal html to 'read_html' is deprecated and will be removed in a future version. To read from a literal string, wrap it in a 'StringIO' object.\n",
      "  e_df = pd.read_html(str(e_table))[0]\n",
      "/tmp/ipykernel_563/1228026030.py:16: FutureWarning: Passing literal html to 'read_html' is deprecated and will be removed in a future version. To read from a literal string, wrap it in a 'StringIO' object.\n",
      "  w_df = pd.read_html(str(w_table))[0]\n",
      "/tmp/ipykernel_563/1228026030.py:9: FutureWarning: Passing literal html to 'read_html' is deprecated and will be removed in a future version. To read from a literal string, wrap it in a 'StringIO' object.\n",
      "  e_df = pd.read_html(str(e_table))[0]\n",
      "/tmp/ipykernel_563/1228026030.py:16: FutureWarning: Passing literal html to 'read_html' is deprecated and will be removed in a future version. To read from a literal string, wrap it in a 'StringIO' object.\n",
      "  w_df = pd.read_html(str(w_table))[0]\n",
      "/tmp/ipykernel_563/1228026030.py:9: FutureWarning: Passing literal html to 'read_html' is deprecated and will be removed in a future version. To read from a literal string, wrap it in a 'StringIO' object.\n",
      "  e_df = pd.read_html(str(e_table))[0]\n",
      "/tmp/ipykernel_563/1228026030.py:16: FutureWarning: Passing literal html to 'read_html' is deprecated and will be removed in a future version. To read from a literal string, wrap it in a 'StringIO' object.\n",
      "  w_df = pd.read_html(str(w_table))[0]\n",
      "/tmp/ipykernel_563/1228026030.py:9: FutureWarning: Passing literal html to 'read_html' is deprecated and will be removed in a future version. To read from a literal string, wrap it in a 'StringIO' object.\n",
      "  e_df = pd.read_html(str(e_table))[0]\n",
      "/tmp/ipykernel_563/1228026030.py:16: FutureWarning: Passing literal html to 'read_html' is deprecated and will be removed in a future version. To read from a literal string, wrap it in a 'StringIO' object.\n",
      "  w_df = pd.read_html(str(w_table))[0]\n",
      "/tmp/ipykernel_563/1228026030.py:9: FutureWarning: Passing literal html to 'read_html' is deprecated and will be removed in a future version. To read from a literal string, wrap it in a 'StringIO' object.\n",
      "  e_df = pd.read_html(str(e_table))[0]\n",
      "/tmp/ipykernel_563/1228026030.py:16: FutureWarning: Passing literal html to 'read_html' is deprecated and will be removed in a future version. To read from a literal string, wrap it in a 'StringIO' object.\n",
      "  w_df = pd.read_html(str(w_table))[0]\n",
      "/tmp/ipykernel_563/1228026030.py:9: FutureWarning: Passing literal html to 'read_html' is deprecated and will be removed in a future version. To read from a literal string, wrap it in a 'StringIO' object.\n",
      "  e_df = pd.read_html(str(e_table))[0]\n",
      "/tmp/ipykernel_563/1228026030.py:16: FutureWarning: Passing literal html to 'read_html' is deprecated and will be removed in a future version. To read from a literal string, wrap it in a 'StringIO' object.\n",
      "  w_df = pd.read_html(str(w_table))[0]\n",
      "/tmp/ipykernel_563/1228026030.py:9: FutureWarning: Passing literal html to 'read_html' is deprecated and will be removed in a future version. To read from a literal string, wrap it in a 'StringIO' object.\n",
      "  e_df = pd.read_html(str(e_table))[0]\n",
      "/tmp/ipykernel_563/1228026030.py:16: FutureWarning: Passing literal html to 'read_html' is deprecated and will be removed in a future version. To read from a literal string, wrap it in a 'StringIO' object.\n",
      "  w_df = pd.read_html(str(w_table))[0]\n",
      "/tmp/ipykernel_563/1228026030.py:9: FutureWarning: Passing literal html to 'read_html' is deprecated and will be removed in a future version. To read from a literal string, wrap it in a 'StringIO' object.\n",
      "  e_df = pd.read_html(str(e_table))[0]\n",
      "/tmp/ipykernel_563/1228026030.py:16: FutureWarning: Passing literal html to 'read_html' is deprecated and will be removed in a future version. To read from a literal string, wrap it in a 'StringIO' object.\n",
      "  w_df = pd.read_html(str(w_table))[0]\n",
      "/tmp/ipykernel_563/1228026030.py:9: FutureWarning: Passing literal html to 'read_html' is deprecated and will be removed in a future version. To read from a literal string, wrap it in a 'StringIO' object.\n",
      "  e_df = pd.read_html(str(e_table))[0]\n",
      "/tmp/ipykernel_563/1228026030.py:16: FutureWarning: Passing literal html to 'read_html' is deprecated and will be removed in a future version. To read from a literal string, wrap it in a 'StringIO' object.\n",
      "  w_df = pd.read_html(str(w_table))[0]\n",
      "/tmp/ipykernel_563/1228026030.py:9: FutureWarning: Passing literal html to 'read_html' is deprecated and will be removed in a future version. To read from a literal string, wrap it in a 'StringIO' object.\n",
      "  e_df = pd.read_html(str(e_table))[0]\n",
      "/tmp/ipykernel_563/1228026030.py:16: FutureWarning: Passing literal html to 'read_html' is deprecated and will be removed in a future version. To read from a literal string, wrap it in a 'StringIO' object.\n",
      "  w_df = pd.read_html(str(w_table))[0]\n",
      "/tmp/ipykernel_563/1228026030.py:9: FutureWarning: Passing literal html to 'read_html' is deprecated and will be removed in a future version. To read from a literal string, wrap it in a 'StringIO' object.\n",
      "  e_df = pd.read_html(str(e_table))[0]\n",
      "/tmp/ipykernel_563/1228026030.py:16: FutureWarning: Passing literal html to 'read_html' is deprecated and will be removed in a future version. To read from a literal string, wrap it in a 'StringIO' object.\n",
      "  w_df = pd.read_html(str(w_table))[0]\n",
      "/tmp/ipykernel_563/1228026030.py:9: FutureWarning: Passing literal html to 'read_html' is deprecated and will be removed in a future version. To read from a literal string, wrap it in a 'StringIO' object.\n",
      "  e_df = pd.read_html(str(e_table))[0]\n",
      "/tmp/ipykernel_563/1228026030.py:16: FutureWarning: Passing literal html to 'read_html' is deprecated and will be removed in a future version. To read from a literal string, wrap it in a 'StringIO' object.\n",
      "  w_df = pd.read_html(str(w_table))[0]\n",
      "/tmp/ipykernel_563/1228026030.py:9: FutureWarning: Passing literal html to 'read_html' is deprecated and will be removed in a future version. To read from a literal string, wrap it in a 'StringIO' object.\n",
      "  e_df = pd.read_html(str(e_table))[0]\n",
      "/tmp/ipykernel_563/1228026030.py:16: FutureWarning: Passing literal html to 'read_html' is deprecated and will be removed in a future version. To read from a literal string, wrap it in a 'StringIO' object.\n",
      "  w_df = pd.read_html(str(w_table))[0]\n",
      "/tmp/ipykernel_563/1228026030.py:9: FutureWarning: Passing literal html to 'read_html' is deprecated and will be removed in a future version. To read from a literal string, wrap it in a 'StringIO' object.\n",
      "  e_df = pd.read_html(str(e_table))[0]\n",
      "/tmp/ipykernel_563/1228026030.py:16: FutureWarning: Passing literal html to 'read_html' is deprecated and will be removed in a future version. To read from a literal string, wrap it in a 'StringIO' object.\n",
      "  w_df = pd.read_html(str(w_table))[0]\n",
      "/tmp/ipykernel_563/1228026030.py:9: FutureWarning: Passing literal html to 'read_html' is deprecated and will be removed in a future version. To read from a literal string, wrap it in a 'StringIO' object.\n",
      "  e_df = pd.read_html(str(e_table))[0]\n",
      "/tmp/ipykernel_563/1228026030.py:16: FutureWarning: Passing literal html to 'read_html' is deprecated and will be removed in a future version. To read from a literal string, wrap it in a 'StringIO' object.\n",
      "  w_df = pd.read_html(str(w_table))[0]\n",
      "/tmp/ipykernel_563/1228026030.py:9: FutureWarning: Passing literal html to 'read_html' is deprecated and will be removed in a future version. To read from a literal string, wrap it in a 'StringIO' object.\n",
      "  e_df = pd.read_html(str(e_table))[0]\n",
      "/tmp/ipykernel_563/1228026030.py:16: FutureWarning: Passing literal html to 'read_html' is deprecated and will be removed in a future version. To read from a literal string, wrap it in a 'StringIO' object.\n",
      "  w_df = pd.read_html(str(w_table))[0]\n",
      "/tmp/ipykernel_563/1228026030.py:9: FutureWarning: Passing literal html to 'read_html' is deprecated and will be removed in a future version. To read from a literal string, wrap it in a 'StringIO' object.\n",
      "  e_df = pd.read_html(str(e_table))[0]\n",
      "/tmp/ipykernel_563/1228026030.py:16: FutureWarning: Passing literal html to 'read_html' is deprecated and will be removed in a future version. To read from a literal string, wrap it in a 'StringIO' object.\n",
      "  w_df = pd.read_html(str(w_table))[0]\n",
      "/tmp/ipykernel_563/1228026030.py:9: FutureWarning: Passing literal html to 'read_html' is deprecated and will be removed in a future version. To read from a literal string, wrap it in a 'StringIO' object.\n",
      "  e_df = pd.read_html(str(e_table))[0]\n",
      "/tmp/ipykernel_563/1228026030.py:16: FutureWarning: Passing literal html to 'read_html' is deprecated and will be removed in a future version. To read from a literal string, wrap it in a 'StringIO' object.\n",
      "  w_df = pd.read_html(str(w_table))[0]\n",
      "/tmp/ipykernel_563/1228026030.py:9: FutureWarning: Passing literal html to 'read_html' is deprecated and will be removed in a future version. To read from a literal string, wrap it in a 'StringIO' object.\n",
      "  e_df = pd.read_html(str(e_table))[0]\n",
      "/tmp/ipykernel_563/1228026030.py:16: FutureWarning: Passing literal html to 'read_html' is deprecated and will be removed in a future version. To read from a literal string, wrap it in a 'StringIO' object.\n",
      "  w_df = pd.read_html(str(w_table))[0]\n",
      "/tmp/ipykernel_563/1228026030.py:9: FutureWarning: Passing literal html to 'read_html' is deprecated and will be removed in a future version. To read from a literal string, wrap it in a 'StringIO' object.\n",
      "  e_df = pd.read_html(str(e_table))[0]\n",
      "/tmp/ipykernel_563/1228026030.py:16: FutureWarning: Passing literal html to 'read_html' is deprecated and will be removed in a future version. To read from a literal string, wrap it in a 'StringIO' object.\n",
      "  w_df = pd.read_html(str(w_table))[0]\n",
      "/tmp/ipykernel_563/1228026030.py:9: FutureWarning: Passing literal html to 'read_html' is deprecated and will be removed in a future version. To read from a literal string, wrap it in a 'StringIO' object.\n",
      "  e_df = pd.read_html(str(e_table))[0]\n",
      "/tmp/ipykernel_563/1228026030.py:16: FutureWarning: Passing literal html to 'read_html' is deprecated and will be removed in a future version. To read from a literal string, wrap it in a 'StringIO' object.\n",
      "  w_df = pd.read_html(str(w_table))[0]\n",
      "/tmp/ipykernel_563/1228026030.py:9: FutureWarning: Passing literal html to 'read_html' is deprecated and will be removed in a future version. To read from a literal string, wrap it in a 'StringIO' object.\n",
      "  e_df = pd.read_html(str(e_table))[0]\n",
      "/tmp/ipykernel_563/1228026030.py:16: FutureWarning: Passing literal html to 'read_html' is deprecated and will be removed in a future version. To read from a literal string, wrap it in a 'StringIO' object.\n",
      "  w_df = pd.read_html(str(w_table))[0]\n",
      "/tmp/ipykernel_563/1228026030.py:9: FutureWarning: Passing literal html to 'read_html' is deprecated and will be removed in a future version. To read from a literal string, wrap it in a 'StringIO' object.\n",
      "  e_df = pd.read_html(str(e_table))[0]\n",
      "/tmp/ipykernel_563/1228026030.py:16: FutureWarning: Passing literal html to 'read_html' is deprecated and will be removed in a future version. To read from a literal string, wrap it in a 'StringIO' object.\n",
      "  w_df = pd.read_html(str(w_table))[0]\n",
      "/tmp/ipykernel_563/1228026030.py:9: FutureWarning: Passing literal html to 'read_html' is deprecated and will be removed in a future version. To read from a literal string, wrap it in a 'StringIO' object.\n",
      "  e_df = pd.read_html(str(e_table))[0]\n",
      "/tmp/ipykernel_563/1228026030.py:16: FutureWarning: Passing literal html to 'read_html' is deprecated and will be removed in a future version. To read from a literal string, wrap it in a 'StringIO' object.\n",
      "  w_df = pd.read_html(str(w_table))[0]\n"
     ]
    }
   ],
   "source": [
    "dfs = []\n",
    "for year in years:\n",
    "    with open(\"team/{}.html\".format(year)) as f:\n",
    "        page = f.read()\n",
    "    \n",
    "    soup = bs(page, 'html.parser')\n",
    "    soup.find('tr', class_=\"thead\").decompose()\n",
    "    e_table = soup.find_all(id=\"divs_standings_E\")[0]\n",
    "    e_df = pd.read_html(str(e_table))[0]\n",
    "    e_df[\"Year\"] = year\n",
    "    e_df[\"Team\"] = e_df[\"Eastern Conference\"]\n",
    "    del e_df[\"Eastern Conference\"]\n",
    "    dfs.append(e_df)\n",
    "    \n",
    "    w_table = soup.find_all(id=\"divs_standings_W\")[0]\n",
    "    w_df = pd.read_html(str(w_table))[0]\n",
    "    w_df[\"Year\"] = year\n",
    "    w_df[\"Team\"] = w_df[\"Western Conference\"]\n",
    "    del w_df[\"Western Conference\"]\n",
    "    dfs.append(w_df)"
   ]
  },
  {
   "cell_type": "code",
   "execution_count": 13,
   "metadata": {},
   "outputs": [
    {
     "data": {
      "text/html": [
       "<div>\n",
       "<style scoped>\n",
       "    .dataframe tbody tr th:only-of-type {\n",
       "        vertical-align: middle;\n",
       "    }\n",
       "\n",
       "    .dataframe tbody tr th {\n",
       "        vertical-align: top;\n",
       "    }\n",
       "\n",
       "    .dataframe thead th {\n",
       "        text-align: right;\n",
       "    }\n",
       "</style>\n",
       "<table border=\"1\" class=\"dataframe\">\n",
       "  <thead>\n",
       "    <tr style=\"text-align: right;\">\n",
       "      <th></th>\n",
       "      <th>W</th>\n",
       "      <th>L</th>\n",
       "      <th>W/L%</th>\n",
       "      <th>GB</th>\n",
       "      <th>PS/G</th>\n",
       "      <th>PA/G</th>\n",
       "      <th>SRS</th>\n",
       "      <th>Year</th>\n",
       "      <th>Team</th>\n",
       "    </tr>\n",
       "  </thead>\n",
       "  <tbody>\n",
       "    <tr>\n",
       "      <th>0</th>\n",
       "      <td>56</td>\n",
       "      <td>26</td>\n",
       "      <td>.683</td>\n",
       "      <td>—</td>\n",
       "      <td>111.5</td>\n",
       "      <td>105.7</td>\n",
       "      <td>5.22</td>\n",
       "      <td>1991</td>\n",
       "      <td>Boston Celtics*</td>\n",
       "    </tr>\n",
       "    <tr>\n",
       "      <th>1</th>\n",
       "      <td>44</td>\n",
       "      <td>38</td>\n",
       "      <td>.537</td>\n",
       "      <td>12.0</td>\n",
       "      <td>105.4</td>\n",
       "      <td>105.6</td>\n",
       "      <td>-0.39</td>\n",
       "      <td>1991</td>\n",
       "      <td>Philadelphia 76ers*</td>\n",
       "    </tr>\n",
       "    <tr>\n",
       "      <th>2</th>\n",
       "      <td>39</td>\n",
       "      <td>43</td>\n",
       "      <td>.476</td>\n",
       "      <td>17.0</td>\n",
       "      <td>103.1</td>\n",
       "      <td>103.3</td>\n",
       "      <td>-0.43</td>\n",
       "      <td>1991</td>\n",
       "      <td>New York Knicks*</td>\n",
       "    </tr>\n",
       "    <tr>\n",
       "      <th>3</th>\n",
       "      <td>30</td>\n",
       "      <td>52</td>\n",
       "      <td>.366</td>\n",
       "      <td>26.0</td>\n",
       "      <td>101.4</td>\n",
       "      <td>106.4</td>\n",
       "      <td>-4.84</td>\n",
       "      <td>1991</td>\n",
       "      <td>Washington Bullets</td>\n",
       "    </tr>\n",
       "    <tr>\n",
       "      <th>4</th>\n",
       "      <td>26</td>\n",
       "      <td>56</td>\n",
       "      <td>.317</td>\n",
       "      <td>30.0</td>\n",
       "      <td>102.9</td>\n",
       "      <td>107.5</td>\n",
       "      <td>-4.53</td>\n",
       "      <td>1991</td>\n",
       "      <td>New Jersey Nets</td>\n",
       "    </tr>\n",
       "    <tr>\n",
       "      <th>...</th>\n",
       "      <td>...</td>\n",
       "      <td>...</td>\n",
       "      <td>...</td>\n",
       "      <td>...</td>\n",
       "      <td>...</td>\n",
       "      <td>...</td>\n",
       "      <td>...</td>\n",
       "      <td>...</td>\n",
       "      <td>...</td>\n",
       "    </tr>\n",
       "    <tr>\n",
       "      <th>13</th>\n",
       "      <td>56</td>\n",
       "      <td>26</td>\n",
       "      <td>.683</td>\n",
       "      <td>—</td>\n",
       "      <td>115.6</td>\n",
       "      <td>109.9</td>\n",
       "      <td>5.37</td>\n",
       "      <td>2022</td>\n",
       "      <td>Memphis Grizzlies*</td>\n",
       "    </tr>\n",
       "    <tr>\n",
       "      <th>14</th>\n",
       "      <td>52</td>\n",
       "      <td>30</td>\n",
       "      <td>.634</td>\n",
       "      <td>4.0</td>\n",
       "      <td>108.0</td>\n",
       "      <td>104.7</td>\n",
       "      <td>3.12</td>\n",
       "      <td>2022</td>\n",
       "      <td>Dallas Mavericks*</td>\n",
       "    </tr>\n",
       "    <tr>\n",
       "      <th>15</th>\n",
       "      <td>36</td>\n",
       "      <td>46</td>\n",
       "      <td>.439</td>\n",
       "      <td>20.0</td>\n",
       "      <td>109.3</td>\n",
       "      <td>110.3</td>\n",
       "      <td>-0.84</td>\n",
       "      <td>2022</td>\n",
       "      <td>New Orleans Pelicans*</td>\n",
       "    </tr>\n",
       "    <tr>\n",
       "      <th>16</th>\n",
       "      <td>34</td>\n",
       "      <td>48</td>\n",
       "      <td>.415</td>\n",
       "      <td>22.0</td>\n",
       "      <td>113.2</td>\n",
       "      <td>113.0</td>\n",
       "      <td>0.02</td>\n",
       "      <td>2022</td>\n",
       "      <td>San Antonio Spurs</td>\n",
       "    </tr>\n",
       "    <tr>\n",
       "      <th>17</th>\n",
       "      <td>20</td>\n",
       "      <td>62</td>\n",
       "      <td>.244</td>\n",
       "      <td>36.0</td>\n",
       "      <td>109.7</td>\n",
       "      <td>118.2</td>\n",
       "      <td>-8.26</td>\n",
       "      <td>2022</td>\n",
       "      <td>Houston Rockets</td>\n",
       "    </tr>\n",
       "  </tbody>\n",
       "</table>\n",
       "<p>1068 rows × 9 columns</p>\n",
       "</div>"
      ],
      "text/plain": [
       "     W   L  W/L%    GB   PS/G   PA/G    SRS  Year                   Team\n",
       "0   56  26  .683     —  111.5  105.7   5.22  1991        Boston Celtics*\n",
       "1   44  38  .537  12.0  105.4  105.6  -0.39  1991    Philadelphia 76ers*\n",
       "2   39  43  .476  17.0  103.1  103.3  -0.43  1991       New York Knicks*\n",
       "3   30  52  .366  26.0  101.4  106.4  -4.84  1991     Washington Bullets\n",
       "4   26  56  .317  30.0  102.9  107.5  -4.53  1991        New Jersey Nets\n",
       "..  ..  ..   ...   ...    ...    ...    ...   ...                    ...\n",
       "13  56  26  .683     —  115.6  109.9   5.37  2022     Memphis Grizzlies*\n",
       "14  52  30  .634   4.0  108.0  104.7   3.12  2022      Dallas Mavericks*\n",
       "15  36  46  .439  20.0  109.3  110.3  -0.84  2022  New Orleans Pelicans*\n",
       "16  34  48  .415  22.0  113.2  113.0   0.02  2022      San Antonio Spurs\n",
       "17  20  62  .244  36.0  109.7  118.2  -8.26  2022        Houston Rockets\n",
       "\n",
       "[1068 rows x 9 columns]"
      ]
     },
     "execution_count": 13,
     "metadata": {},
     "output_type": "execute_result"
    }
   ],
   "source": [
    "teams = pd.concat(dfs)\n",
    "teams"
   ]
  },
  {
   "cell_type": "code",
   "execution_count": null,
   "metadata": {},
   "outputs": [],
   "source": [
    "teams.to_csv(\"teams.csv\")"
   ]
  }
 ],
 "metadata": {
  "kernelspec": {
   "display_name": "Python 3 (ipykernel)",
   "language": "python",
   "name": "python3"
  },
  "language_info": {
   "codemirror_mode": {
    "name": "ipython",
    "version": 3
   },
   "file_extension": ".py",
   "mimetype": "text/x-python",
   "name": "python",
   "nbconvert_exporter": "python",
   "pygments_lexer": "ipython3",
   "version": "3.10.13"
  }
 },
 "nbformat": 4,
 "nbformat_minor": 2
}
