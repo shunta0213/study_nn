{
 "cells": [
  {
   "cell_type": "code",
   "execution_count": 2,
   "metadata": {},
   "outputs": [],
   "source": [
    "import requests\n",
    "from bs4 import BeautifulSoup as bs\n",
    "import pandas as pd\n",
    "import os\n",
    "import time\n",
    "\n",
    "from selenium import webdriver"
   ]
  },
  {
   "cell_type": "code",
   "execution_count": 3,
   "metadata": {},
   "outputs": [],
   "source": [
    "years = list(range(1991, 2021))\n",
    "url_start = \"https://www.basketball-reference.com/awards/awards_{}.html\""
   ]
  },
  {
   "cell_type": "markdown",
   "metadata": {},
   "source": [
    "# Scrape MVPs"
   ]
  },
  {
   "cell_type": "code",
   "execution_count": 4,
   "metadata": {},
   "outputs": [],
   "source": [
    "dfs = []\n",
    "\n",
    "# Already fetched\n",
    "# for year in years:\n",
    "#   url = url_start.format(year)\n",
    "#   data = requests.get(url)\n",
    "#   file_name = \"./mvps/{}.html\".format(year)\n",
    "\n",
    "\n",
    "#   if os.path.exists(file_name):\n",
    "#     os.remove(file_name)\n",
    "#   with open(file_name, \"w+\") as f:\n",
    "#     f.write(data.text)\n",
    "  "
   ]
  },
  {
   "cell_type": "code",
   "execution_count": 5,
   "metadata": {},
   "outputs": [],
   "source": [
    "# for year in years:\n",
    "#   with open(\"./mvps/{}.html\".format(year)) as f:\n",
    "#     page = f.read()\n",
    "  \n",
    "#   soup = bs(page, \"html.parser\")\n",
    "#   soup.find(\"tr\", class_=\"over_header\").decompose()\n",
    "#   mvp_table = soup.find_all(id=\"mvp\")\n",
    "#   mvp = pd.read_html(str(mvp_table))[0]\n",
    "#   mvp[\"Year\"] = year\n",
    "\n",
    "#   print(year)\n",
    "\n",
    "#   dfs.append(mvp)\n",
    "#   mvps = pd.concat(dfs)\n"
   ]
  },
  {
   "cell_type": "code",
   "execution_count": 6,
   "metadata": {},
   "outputs": [],
   "source": [
    "# if os.path.exists(\"mvps.csv\"):\n",
    "#   os.remove(\"mvps.csv\")\n",
    "# mvps.to_csv(\"mvps.csv\")"
   ]
  },
  {
   "cell_type": "markdown",
   "metadata": {},
   "source": [
    "# Scrape player stats"
   ]
  },
  {
   "cell_type": "code",
   "execution_count": 7,
   "metadata": {},
   "outputs": [],
   "source": [
    "player_stats_url = \"https://www.basketball-reference.com/leagues/NBA_{}_per_game.html\""
   ]
  },
  {
   "cell_type": "code",
   "execution_count": 8,
   "metadata": {},
   "outputs": [
    {
     "name": "stdout",
     "output_type": "stream",
     "text": [
      "scraping 2013 data\n",
      "scraping 2014 data\n",
      "scraping 2015 data\n",
      "scraping 2016 data\n",
      "scraping 2017 data\n",
      "scraping 2018 data\n",
      "scraping 2019 data\n"
     ]
    }
   ],
   "source": [
    "# driver = webdriver.Remote(\n",
    "#   command_executor = os.environ[\"SELENIUM_URL\"],\n",
    "#   options = webdriver.ChromeOptions()\n",
    "# )\n",
    "\n",
    "# for year in years:\n",
    "#     url = player_stats_url.format(year)\n",
    "#     print(f\"scraping {year} data\")\n",
    "    \n",
    "#     driver.get(url)\n",
    "#     driver.execute_script(\"window.scrollTo(1,10000)\")\n",
    "#     time.sleep(2)\n",
    "    \n",
    "#     with open(\"player/{}.html\".format(year), \"w+\") as f:\n",
    "#         f.write(driver.page_source)\n",
    "\n",
    "# driver.close()"
   ]
  },
  {
   "cell_type": "code",
   "execution_count": 9,
   "metadata": {},
   "outputs": [
    {
     "name": "stderr",
     "output_type": "stream",
     "text": [
      "/tmp/ipykernel_5534/1397376143.py:10: FutureWarning: Passing literal html to 'read_html' is deprecated and will be removed in a future version. To read from a literal string, wrap it in a 'StringIO' object.\n",
      "  player_df = pd.read_html(str(player_table))[0]\n",
      "/tmp/ipykernel_5534/1397376143.py:10: FutureWarning: Passing literal html to 'read_html' is deprecated and will be removed in a future version. To read from a literal string, wrap it in a 'StringIO' object.\n",
      "  player_df = pd.read_html(str(player_table))[0]\n",
      "/tmp/ipykernel_5534/1397376143.py:10: FutureWarning: Passing literal html to 'read_html' is deprecated and will be removed in a future version. To read from a literal string, wrap it in a 'StringIO' object.\n",
      "  player_df = pd.read_html(str(player_table))[0]\n",
      "/tmp/ipykernel_5534/1397376143.py:10: FutureWarning: Passing literal html to 'read_html' is deprecated and will be removed in a future version. To read from a literal string, wrap it in a 'StringIO' object.\n",
      "  player_df = pd.read_html(str(player_table))[0]\n",
      "/tmp/ipykernel_5534/1397376143.py:10: FutureWarning: Passing literal html to 'read_html' is deprecated and will be removed in a future version. To read from a literal string, wrap it in a 'StringIO' object.\n",
      "  player_df = pd.read_html(str(player_table))[0]\n",
      "/tmp/ipykernel_5534/1397376143.py:10: FutureWarning: Passing literal html to 'read_html' is deprecated and will be removed in a future version. To read from a literal string, wrap it in a 'StringIO' object.\n",
      "  player_df = pd.read_html(str(player_table))[0]\n",
      "/tmp/ipykernel_5534/1397376143.py:10: FutureWarning: Passing literal html to 'read_html' is deprecated and will be removed in a future version. To read from a literal string, wrap it in a 'StringIO' object.\n",
      "  player_df = pd.read_html(str(player_table))[0]\n"
     ]
    }
   ],
   "source": [
    "dfs = []\n",
    "\n",
    "for year in years:\n",
    "    with open(\"player/{}.html\".format(year)) as f:\n",
    "        page = f.read()\n",
    "    \n",
    "    soup = bs(page, 'html.parser')\n",
    "    soup.find('tr', class_=\"thead\").decompose()\n",
    "    player_table = soup.find_all(id=\"per_game_stats\")[0]\n",
    "    player_df = pd.read_html(str(player_table))[0]\n",
    "    player_df[\"Year\"] = year\n",
    "    dfs.append(player_df)\n",
    "\n",
    "players = pd.concat(dfs)\n",
    "players.to_csv(\"players.csv\")\n"
   ]
  },
  {
   "cell_type": "code",
   "execution_count": null,
   "metadata": {},
   "outputs": [],
   "source": []
  }
 ],
 "metadata": {
  "kernelspec": {
   "display_name": "Python 3 (ipykernel)",
   "language": "python",
   "name": "python3"
  },
  "language_info": {
   "codemirror_mode": {
    "name": "ipython",
    "version": 3
   },
   "file_extension": ".py",
   "mimetype": "text/x-python",
   "name": "python",
   "nbconvert_exporter": "python",
   "pygments_lexer": "ipython3",
   "version": "3.11.7"
  }
 },
 "nbformat": 4,
 "nbformat_minor": 2
}
