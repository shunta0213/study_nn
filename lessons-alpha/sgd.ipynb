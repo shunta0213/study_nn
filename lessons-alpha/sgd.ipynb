{
 "cells": [
  {
   "cell_type": "code",
   "execution_count": 2,
   "metadata": {},
   "outputs": [],
   "source": [
    "import torch"
   ]
  },
  {
   "cell_type": "code",
   "execution_count": 3,
   "metadata": {},
   "outputs": [],
   "source": [
    "x = torch.tensor(1.0, requires_grad=True)\n",
    "w = torch.tensor(2.0, requires_grad=True)\n",
    "b = torch.tensor(3.0, requires_grad=True)\n",
    "\n",
    "y = x * w + b"
   ]
  },
  {
   "cell_type": "code",
   "execution_count": 4,
   "metadata": {},
   "outputs": [],
   "source": [
    "y.backward()\n"
   ]
  },
  {
   "cell_type": "code",
   "execution_count": 5,
   "metadata": {},
   "outputs": [
    {
     "name": "stdout",
     "output_type": "stream",
     "text": [
      "tensor(2.)\n",
      "tensor(1.)\n",
      "tensor(1.)\n"
     ]
    }
   ],
   "source": [
    "print(x.grad)\n",
    "print(w.grad)\n",
    "print(b.grad)"
   ]
  },
  {
   "cell_type": "code",
   "execution_count": 6,
   "metadata": {},
   "outputs": [],
   "source": [
    "X = torch.normal(0, 1, (2, 2), requires_grad=True)\n",
    "w = torch.normal(0, 1, (2, 1), requires_grad=True)\n",
    "b = torch.zeros((2, 1),requires_grad=True)\n",
    "\n",
    "y = torch.matmul(X, w) + b"
   ]
  },
  {
   "cell_type": "code",
   "execution_count": 7,
   "metadata": {},
   "outputs": [
    {
     "name": "stdout",
     "output_type": "stream",
     "text": [
      "tensor([[-0.1228],\n",
      "        [-0.9045]], grad_fn=<AddBackward0>)\n",
      "tensor(0.9128, grad_fn=<LinalgVectorNormBackward0>)\n",
      "tensor([[-0.2720,  0.8215],\n",
      "        [ 0.8448,  0.6964]], requires_grad=True)\n",
      "tensor([[-0.7443],\n",
      "        [-0.3959]], requires_grad=True)\n",
      "tensor([[0.],\n",
      "        [0.]], requires_grad=True)\n",
      "---\n",
      "tensor([[0.1001, 0.0533],\n",
      "        [0.7376, 0.3923]])\n",
      "tensor([[-0.8005],\n",
      "        [-0.8005]])\n",
      "tensor([[-0.1345],\n",
      "        [-0.9909]])\n"
     ]
    }
   ],
   "source": [
    "out = y.norm()\n",
    "out.backward()\n",
    "\n",
    "print(y)\n",
    "print(out)\n",
    "print(X)\n",
    "print(w)\n",
    "print(b)\n",
    "print('---')\n",
    "print(X.grad)\n",
    "print(w.grad)\n",
    "print(b.grad)"
   ]
  },
  {
   "cell_type": "code",
   "execution_count": 8,
   "metadata": {},
   "outputs": [
    {
     "data": {
      "text/plain": [
       "tensor([[0.],\n",
       "        [0.]])"
      ]
     },
     "execution_count": 8,
     "metadata": {},
     "output_type": "execute_result"
    }
   ],
   "source": [
    "w.grad.zero_()"
   ]
  },
  {
   "cell_type": "code",
   "execution_count": 9,
   "metadata": {},
   "outputs": [
    {
     "data": {
      "text/plain": [
       "tensor([[-0.1228],\n",
       "        [-0.9045]], grad_fn=<AddBackward0>)"
      ]
     },
     "execution_count": 9,
     "metadata": {},
     "output_type": "execute_result"
    }
   ],
   "source": [
    "y = torch.matmul(X, w) + b\n",
    "y"
   ]
  }
 ],
 "metadata": {
  "kernelspec": {
   "display_name": "base",
   "language": "python",
   "name": "python3"
  },
  "language_info": {
   "codemirror_mode": {
    "name": "ipython",
    "version": 3
   },
   "file_extension": ".py",
   "mimetype": "text/x-python",
   "name": "python",
   "nbconvert_exporter": "python",
   "pygments_lexer": "ipython3",
   "version": "3.10.13"
  }
 },
 "nbformat": 4,
 "nbformat_minor": 2
}
