{
 "cells": [
  {
   "cell_type": "code",
   "execution_count": 111,
   "metadata": {},
   "outputs": [],
   "source": [
    "import random\n",
    "import torch\n",
    "import matplotlib.pyplot as plt"
   ]
  },
  {
   "cell_type": "code",
   "execution_count": 112,
   "metadata": {},
   "outputs": [
    {
     "data": {
      "text/plain": [
       "tensor([[ 2.9308, -5.2420],\n",
       "        [ 1.7078, -0.4133],\n",
       "        [-1.4748,  1.5687],\n",
       "        ...,\n",
       "        [ 0.7888,  2.3998],\n",
       "        [ 0.1581, -0.2064],\n",
       "        [-0.0521, -1.2057]])"
      ]
     },
     "execution_count": 112,
     "metadata": {},
     "output_type": "execute_result"
    }
   ],
   "source": [
    "def synthetic_data(w, b, num_examples):\n",
    "    X = torch.normal(0, 2, (num_examples, len(w)))\n",
    "    y = torch.matmul(X, w) + b\n",
    "    y += torch.normal(0, 0.31, y.shape)\n",
    "    return X, y.reshape((-1, 1))\n",
    "\n",
    "\n",
    "true_w = torch.tensor([-4.1, -2.6])\n",
    "true_b = 5.9\n",
    "X_train, y_train = synthetic_data(true_w, true_b, 1000)\n",
    "\n",
    "X_train"
   ]
  },
  {
   "cell_type": "code",
   "execution_count": 113,
   "metadata": {},
   "outputs": [],
   "source": [
    "# generator function\n",
    "# the merit of using genrator function (not using return, instead use yield): small memory usage\n",
    "def data_iter(batch_size, X_train, y_train):\n",
    "    num_examples = len(X_train)\n",
    "    indicies = list(range(num_examples))\n",
    "    random.shuffle(indicies)\n",
    "    for i in range(0, num_examples, batch_size):\n",
    "        batch_indicies = torch.tensor(indicies[i : min(i + batch_size, num_examples)])\n",
    "        yield X_train[batch_indicies], y_train[batch_indicies]"
   ]
  },
  {
   "cell_type": "code",
   "execution_count": 114,
   "metadata": {},
   "outputs": [],
   "source": [
    "def linreg(X, w, b):\n",
    "    return torch.matmul(X, w) + b"
   ]
  },
  {
   "cell_type": "code",
   "execution_count": 115,
   "metadata": {},
   "outputs": [],
   "source": [
    "def squared_loss(y_hat, y):\n",
    "    return (y_hat - y.reshape(y_hat.shape)) ** 2 / 2"
   ]
  },
  {
   "cell_type": "code",
   "execution_count": 122,
   "metadata": {},
   "outputs": [],
   "source": [
    "def sgd(params, lr, batch_size):\n",
    "    with torch.no_grad():\n",
    "        for param in params:\n",
    "            param -= lr * param.grad / batch_size\n",
    "            param.grad.zero_()"
   ]
  },
  {
   "cell_type": "code",
   "execution_count": 123,
   "metadata": {},
   "outputs": [
    {
     "name": "stdout",
     "output_type": "stream",
     "text": [
      "epoch 1, loss 2.58357\n",
      "epoch 2, loss 0.38989\n",
      "epoch 3, loss 0.09243\n",
      "epoch 4, loss 0.05311\n",
      "epoch 5, loss 0.04784\n",
      "epoch 6, loss 0.04691\n",
      "epoch 7, loss 0.04691\n",
      "epoch 8, loss 0.04689\n",
      "epoch 9, loss 0.04699\n",
      "epoch 10, loss 0.04692\n"
     ]
    }
   ],
   "source": [
    "batch_size = 10\n",
    "w = torch.normal(0, 0.01, size=(2, 1), requires_grad=True)\n",
    "b = torch.zeros(1, requires_grad=True)\n",
    "lr = 0.01\n",
    "num_epochs = 10\n",
    "net = linreg\n",
    "loss = squared_loss\n",
    "\n",
    "for epoch in range(num_epochs):\n",
    "    for X, y in data_iter(batch_size, X_train, y_train):\n",
    "        l = loss(net(X, w, b), y)\n",
    "        l.sum().backward()\n",
    "        sgd([w, b], lr, batch_size)\n",
    "    with torch.no_grad():\n",
    "        train_l = loss(net(X_train, w, b), y_train)\n",
    "        print(f\"epoch {epoch + 1}, loss {float(train_l.mean()):.5f}\")"
   ]
  },
  {
   "cell_type": "code",
   "execution_count": null,
   "metadata": {},
   "outputs": [],
   "source": []
  }
 ],
 "metadata": {
  "kernelspec": {
   "display_name": "base",
   "language": "python",
   "name": "python3"
  },
  "language_info": {
   "codemirror_mode": {
    "name": "ipython",
    "version": 3
   },
   "file_extension": ".py",
   "mimetype": "text/x-python",
   "name": "python",
   "nbconvert_exporter": "python",
   "pygments_lexer": "ipython3",
   "version": "3.10.13"
  }
 },
 "nbformat": 4,
 "nbformat_minor": 2
}
